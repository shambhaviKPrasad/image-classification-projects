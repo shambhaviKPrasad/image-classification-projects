{
 "cells": [
  {
   "cell_type": "markdown",
   "metadata": {},
   "source": [
    "# CODE TO CLASSIFY TRAFFIC SIGNS USING LE-NET ARCHITECTURE IN KERAS"
   ]
  },
  {
   "cell_type": "markdown",
   "metadata": {},
   "source": [
    "# STEP 0: PROBLEM STATEMENT"
   ]
  },
  {
   "cell_type": "markdown",
   "metadata": {},
   "source": [
    "- In this case study, you have been provided with images of traffic signs and the goal is to train a Deep Network to classify them\n",
    "- The dataset contains 43 different classes of images. \n",
    "- Classes are as listed below: \n",
    "\n",
    "    - ( 0, b'Speed limit (20km/h)') ( 1, b'Speed limit (30km/h)')\n",
    "    - ( 2, b'Speed limit (50km/h)') ( 3, b'Speed limit (60km/h)')\n",
    "    - ( 4, b'Speed limit (70km/h)') ( 5, b'Speed limit (80km/h)')\n",
    "    - ( 6, b'End of speed limit (80km/h)') ( 7, b'Speed limit (100km/h)')\n",
    "    - ( 8, b'Speed limit (120km/h)') ( 9, b'No passing')\n",
    "    - (10, b'No passing for vehicles over 3.5 metric tons')\n",
    "    - (11, b'Right-of-way at the next intersection') (12, b'Priority road')\n",
    "    - (13, b'Yield') (14, b'Stop') (15, b'No vehicles')\n",
    "    - (16, b'Vehicles over 3.5 metric tons prohibited') (17, b'No entry')\n",
    "    - (18, b'General caution') (19, b'Dangerous curve to the left')\n",
    "    - (20, b'Dangerous curve to the right') (21, b'Double curve')\n",
    "    - (22, b'Bumpy road') (23, b'Slippery road')\n",
    "    - (24, b'Road narrows on the right') (25, b'Road work')\n",
    "    - (26, b'Traffic signals') (27, b'Pedestrians') (28, b'Children crossing')\n",
    "    - (29, b'Bicycles crossing') (30, b'Beware of ice/snow')\n",
    "    - (31, b'Wild animals crossing')\n",
    "    - (32, b'End of all speed and passing limits') (33, b'Turn right ahead')\n",
    "    - (34, b'Turn left ahead') (35, b'Ahead only') (36, b'Go straight or right')\n",
    "    - (37, b'Go straight or left') (38, b'Keep right') (39, b'Keep left')\n",
    "    - (40, b'Roundabout mandatory') (41, b'End of no passing')\n",
    "    - (42, b'End of no passing by vehicles over 3.5 metric tons')\n",
    "\n",
    "- The network used is called Le-Net that was presented by Yann LeCun\n",
    "http://yann.lecun.com/exdb/publis/pdf/lecun-01a.pdf\n"
   ]
  },
  {
   "cell_type": "markdown",
   "metadata": {},
   "source": [
    "Citation\n",
    "\n",
    "J. Stallkamp, M. Schlipsing, J. Salmen, and C. Igel. The German Traffic Sign Recognition Benchmark: A multi-class classification competition. In Proceedings of the IEEE International Joint Conference on Neural Networks, pages 1453–1460. 2011. \n",
    "\n",
    "@inproceedings{Stallkamp-IJCNN-2011,\n",
    "    author = {Johannes Stallkamp and Marc Schlipsing and Jan Salmen and Christian Igel},\n",
    "    booktitle = {IEEE International Joint Conference on Neural Networks},\n",
    "    title = {The {G}erman {T}raffic {S}ign {R}ecognition {B}enchmark: A multi-class classification competition},\n",
    "    year = {2011},\n",
    "    pages = {1453--1460}\n",
    "}\n",
    "\n"
   ]
  },
  {
   "cell_type": "markdown",
   "metadata": {},
   "source": [
    "# STEP 1: IMPORT LIBRARIES AND DATASET"
   ]
  },
  {
   "cell_type": "code",
   "execution_count": 1,
   "metadata": {},
   "outputs": [],
   "source": [
    "import warnings\n",
    "warnings.filterwarnings(\"ignore\")"
   ]
  },
  {
   "cell_type": "code",
   "execution_count": 2,
   "metadata": {},
   "outputs": [],
   "source": [
    "# import libraries \n",
    "import pickle\n",
    "import seaborn as sns\n",
    "import pandas as pd # Import Pandas for data manipulation using dataframes\n",
    "import numpy as np # Import Numpy for data statistical analysis \n",
    "import matplotlib.pyplot as plt # Import matplotlib for data visualisation\n",
    "import random"
   ]
  },
  {
   "cell_type": "code",
   "execution_count": 3,
   "metadata": {},
   "outputs": [],
   "source": [
    "# The pickle module implements binary protocols for serializing and de-serializing a Python object structure.\n",
    "with open(\"./traffic-signs-data/train.p\", mode='rb') as training_data:\n",
    "    train = pickle.load(training_data)\n",
    "with open(\"./traffic-signs-data/valid.p\", mode='rb') as validation_data:\n",
    "    valid = pickle.load(validation_data)\n",
    "with open(\"./traffic-signs-data/test.p\", mode='rb') as testing_data:\n",
    "    test = pickle.load(testing_data)"
   ]
  },
  {
   "cell_type": "code",
   "execution_count": 4,
   "metadata": {},
   "outputs": [],
   "source": [
    "X_train, y_train = train['features'], train['labels']\n",
    "X_validation, y_validation = valid['features'], valid['labels']\n",
    "X_test, y_test = test['features'], test['labels']\n"
   ]
  },
  {
   "cell_type": "code",
   "execution_count": 5,
   "metadata": {},
   "outputs": [
    {
     "data": {
      "text/plain": [
       "(34799, 32, 32, 3)"
      ]
     },
     "execution_count": 5,
     "metadata": {},
     "output_type": "execute_result"
    }
   ],
   "source": [
    "X_train.shape"
   ]
  },
  {
   "cell_type": "code",
   "execution_count": 6,
   "metadata": {},
   "outputs": [
    {
     "data": {
      "text/plain": [
       "(34799,)"
      ]
     },
     "execution_count": 6,
     "metadata": {},
     "output_type": "execute_result"
    }
   ],
   "source": [
    "y_train.shape"
   ]
  },
  {
   "cell_type": "markdown",
   "metadata": {},
   "source": [
    "# STEP 2: IMAGE EXPLORATION"
   ]
  },
  {
   "cell_type": "code",
   "execution_count": 7,
   "metadata": {},
   "outputs": [
    {
     "data": {
      "text/plain": [
       "36"
      ]
     },
     "execution_count": 7,
     "metadata": {},
     "output_type": "execute_result"
    },
    {
     "data": {
      "image/png": "[encoded data removed]",
      "text/plain": [
       "<Figure size 432x288 with 1 Axes>"
      ]
     },
     "metadata": {
      "needs_background": "light"
     },
     "output_type": "display_data"
    }
   ],
   "source": [
    "i = 1001\n",
    "plt.imshow(X_train[i]) # Show images are not shuffled\n",
    "y_train[i]"
   ]
  },
  {
   "cell_type": "markdown",
   "metadata": {},
   "source": [
    "# STEP 3: DATA PEPARATION"
   ]
  },
  {
   "cell_type": "code",
   "execution_count": 8,
   "metadata": {},
   "outputs": [],
   "source": [
    "## Shuffle the dataset \n",
    "from sklearn.utils import shuffle\n",
    "X_train, y_train = shuffle(X_train, y_train)\n"
   ]
  },
  {
   "cell_type": "code",
   "execution_count": 9,
   "metadata": {},
   "outputs": [],
   "source": [
    "X_train_gray = np.sum(X_train/3, axis=3, keepdims=True)\n",
    "X_test_gray  = np.sum(X_test/3, axis=3, keepdims=True)\n",
    "X_validation_gray  = np.sum(X_validation/3, axis=3, keepdims=True) "
   ]
  },
  {
   "cell_type": "code",
   "execution_count": 10,
   "metadata": {},
   "outputs": [],
   "source": [
    "X_train_gray_norm = (X_train_gray - 128)/128 \n",
    "X_test_gray_norm = (X_test_gray - 128)/128\n",
    "X_validation_gray_norm = (X_validation_gray - 128)/128\n"
   ]
  },
  {
   "cell_type": "code",
   "execution_count": 11,
   "metadata": {},
   "outputs": [
    {
     "data": {
      "text/plain": [
       "(34799, 32, 32, 1)"
      ]
     },
     "execution_count": 11,
     "metadata": {},
     "output_type": "execute_result"
    }
   ],
   "source": [
    "X_train_gray.shape"
   ]
  },
  {
   "cell_type": "code",
   "execution_count": 12,
   "metadata": {},
   "outputs": [
    {
     "data": {
      "text/plain": [
       "<matplotlib.image.AxesImage at 0x1d31e480e50>"
      ]
     },
     "execution_count": 12,
     "metadata": {},
     "output_type": "execute_result"
    },
    {
     "data": {
      "image/png": "[encoded data removed]",
      "text/plain": [
       "<Figure size 432x288 with 1 Axes>"
      ]
     },
     "metadata": {
      "needs_background": "light"
     },
     "output_type": "display_data"
    },
    {
     "data": {
      "image/png": "[encoded data removed]",
      "text/plain": [
       "<Figure size 432x288 with 1 Axes>"
      ]
     },
     "metadata": {
      "needs_background": "light"
     },
     "output_type": "display_data"
    }
   ],
   "source": [
    "i = 610\n",
    "plt.imshow(X_train_gray[i].squeeze(), cmap='gray')\n",
    "plt.figure()\n",
    "plt.imshow(X_train[i])\n"
   ]
  },
  {
   "cell_type": "markdown",
   "metadata": {},
   "source": [
    "# STEP 4: MODEL TRAINING"
   ]
  },
  {
   "cell_type": "markdown",
   "metadata": {},
   "source": [
    "The model consists of the following layers: \n",
    "\n",
    "- STEP 1: THE FIRST CONVOLUTIONAL LAYER #1\n",
    "    - Input = 32x32x1\n",
    "    - Output = 28x28x6\n",
    "    - Output = (Input-filter+1)/Stride* => (32-5+1)/1=28\n",
    "    - Used a 5x5 Filter with input depth of 3 and output depth of 6\n",
    "    - Apply a RELU Activation function to the output\n",
    "    - pooling for input, Input = 28x28x6 and Output = 14x14x6\n",
    "\n",
    "\n",
    "    * Stride is the amount by which the kernel is shifted when the kernel is passed over the image.\n",
    "\n",
    "- STEP 2: THE SECOND CONVOLUTIONAL LAYER #2\n",
    "    - Input = 14x14x6\n",
    "    - Output = 10x10x16\n",
    "    - Layer 2: Convolutional layer with Output = 10x10x16\n",
    "    - Output = (Input-filter+1)/strides => 10 = 14-5+1/1\n",
    "    - Apply a RELU Activation function to the output\n",
    "    - Pooling with Input = 10x10x16 and Output = 5x5x16\n",
    "\n",
    "- STEP 3: FLATTENING THE NETWORK\n",
    "    - Flatten the network with Input = 5x5x16 and Output = 400\n",
    "\n",
    "- STEP 4: FULLY CONNECTED LAYER\n",
    "    - Layer 3: Fully Connected layer with Input = 400 and Output = 120\n",
    "    - Apply a RELU Activation function to the output\n",
    "\n",
    "- STEP 5: ANOTHER FULLY CONNECTED LAYER\n",
    "    - Layer 4: Fully Connected Layer with Input = 120 and Output = 84\n",
    "    - Apply a RELU Activation function to the output\n",
    "\n",
    "- STEP 6: FULLY CONNECTED LAYER\n",
    "    - Layer 5: Fully Connected layer with Input = 84 and Output = 43"
   ]
  },
  {
   "cell_type": "code",
   "execution_count": 13,
   "metadata": {},
   "outputs": [],
   "source": [
    "# Import train_test_split from scikit library\n",
    "\n",
    "from keras.models import Sequential\n",
    "from keras.layers import Conv2D, MaxPooling2D, AveragePooling2D, Dense, Flatten, Dropout\n",
    "from keras.optimizers import Adam\n",
    "from keras.callbacks import TensorBoard\n",
    "\n",
    "from sklearn.model_selection import train_test_split\n"
   ]
  },
  {
   "cell_type": "code",
   "execution_count": 14,
   "metadata": {},
   "outputs": [],
   "source": [
    "image_shape = X_train_gray[i].shape"
   ]
  },
  {
   "cell_type": "code",
   "execution_count": 15,
   "metadata": {},
   "outputs": [],
   "source": [
    "cnn_model = Sequential()\n",
    "\n",
    "cnn_model.add(Conv2D(filters=6, kernel_size=(5, 5), activation='relu', input_shape=(32,32,1)))\n",
    "cnn_model.add(AveragePooling2D())\n",
    "\n",
    "cnn_model.add(Conv2D(filters=16, kernel_size=(5, 5), activation='relu'))\n",
    "cnn_model.add(AveragePooling2D())\n",
    "\n",
    "cnn_model.add(Flatten())\n",
    "\n",
    "cnn_model.add(Dense(units=120, activation='relu'))\n",
    "\n",
    "cnn_model.add(Dense(units=84, activation='relu'))\n",
    "\n",
    "cnn_model.add(Dense(units=43, activation = 'softmax'))\n"
   ]
  },
  {
   "cell_type": "code",
   "execution_count": 16,
   "metadata": {},
   "outputs": [],
   "source": [
    "cnn_model.compile(loss ='sparse_categorical_crossentropy', optimizer=Adam(lr=0.001),metrics =['accuracy'])"
   ]
  },
  {
   "cell_type": "code",
   "execution_count": 19,
   "metadata": {},
   "outputs": [
    {
     "name": "stdout",
     "output_type": "stream",
     "text": [
      "Epoch 1/50\n",
      "70/70 [==============================] - 6s 79ms/step - loss: 3.4763 - accuracy: 0.1024 - val_loss: 2.7225 - val_accuracy: 0.3000\n",
      "Epoch 2/50\n",
      "70/70 [==============================] - 5s 74ms/step - loss: 1.9987 - accuracy: 0.4566 - val_loss: 1.3502 - val_accuracy: 0.6025\n",
      "Epoch 3/50\n",
      "70/70 [==============================] - 5s 74ms/step - loss: 0.9757 - accuracy: 0.7218 - val_loss: 0.9065 - val_accuracy: 0.7243\n",
      "Epoch 4/50\n",
      "70/70 [==============================] - 5s 73ms/step - loss: 0.6754 - accuracy: 0.8109 - val_loss: 0.7793 - val_accuracy: 0.7569\n",
      "Epoch 5/50\n",
      "70/70 [==============================] - 5s 74ms/step - loss: 0.5237 - accuracy: 0.8595 - val_loss: 0.6932 - val_accuracy: 0.8005\n",
      "Epoch 6/50\n",
      "70/70 [==============================] - 5s 76ms/step - loss: 0.4245 - accuracy: 0.8900 - val_loss: 0.6658 - val_accuracy: 0.8032\n",
      "Epoch 7/50\n",
      "70/70 [==============================] - 5s 77ms/step - loss: 0.3568 - accuracy: 0.9073 - val_loss: 0.6171 - val_accuracy: 0.8222\n",
      "Epoch 8/50\n",
      "70/70 [==============================] - 5s 75ms/step - loss: 0.3131 - accuracy: 0.9183 - val_loss: 0.5898 - val_accuracy: 0.8175\n",
      "Epoch 9/50\n",
      "70/70 [==============================] - 6s 81ms/step - loss: 0.2611 - accuracy: 0.9335 - val_loss: 0.6041 - val_accuracy: 0.8302\n",
      "Epoch 10/50\n",
      "70/70 [==============================] - 5s 76ms/step - loss: 0.2295 - accuracy: 0.9414 - val_loss: 0.5963 - val_accuracy: 0.8336\n",
      "Epoch 11/50\n",
      "70/70 [==============================] - 5s 78ms/step - loss: 0.2107 - accuracy: 0.9447 - val_loss: 0.5937 - val_accuracy: 0.8372\n",
      "Epoch 12/50\n",
      "70/70 [==============================] - 5s 75ms/step - loss: 0.1952 - accuracy: 0.9503 - val_loss: 0.6095 - val_accuracy: 0.8447\n",
      "Epoch 13/50\n",
      "70/70 [==============================] - 5s 73ms/step - loss: 0.1790 - accuracy: 0.9551 - val_loss: 0.5506 - val_accuracy: 0.8517\n",
      "Epoch 14/50\n",
      "70/70 [==============================] - 6s 90ms/step - loss: 0.1579 - accuracy: 0.9596 - val_loss: 0.5724 - val_accuracy: 0.8517\n",
      "Epoch 15/50\n",
      "70/70 [==============================] - 6s 88ms/step - loss: 0.1433 - accuracy: 0.9647 - val_loss: 0.5690 - val_accuracy: 0.8522\n",
      "Epoch 16/50\n",
      "70/70 [==============================] - 6s 81ms/step - loss: 0.1320 - accuracy: 0.9685 - val_loss: 0.5563 - val_accuracy: 0.8549\n",
      "Epoch 17/50\n",
      "70/70 [==============================] - 6s 79ms/step - loss: 0.1157 - accuracy: 0.9734 - val_loss: 0.5598 - val_accuracy: 0.8574\n",
      "Epoch 18/50\n",
      "70/70 [==============================] - 5s 77ms/step - loss: 0.1075 - accuracy: 0.9736 - val_loss: 0.5800 - val_accuracy: 0.8533\n",
      "Epoch 19/50\n",
      "70/70 [==============================] - 5s 74ms/step - loss: 0.0994 - accuracy: 0.9767 - val_loss: 0.6188 - val_accuracy: 0.8526\n",
      "Epoch 20/50\n",
      "70/70 [==============================] - 5s 77ms/step - loss: 0.0923 - accuracy: 0.9770 - val_loss: 0.6029 - val_accuracy: 0.8551\n",
      "Epoch 21/50\n",
      "70/70 [==============================] - 5s 76ms/step - loss: 0.0814 - accuracy: 0.9798 - val_loss: 0.6076 - val_accuracy: 0.8578\n",
      "Epoch 22/50\n",
      "70/70 [==============================] - 5s 75ms/step - loss: 0.0767 - accuracy: 0.9825 - val_loss: 0.6066 - val_accuracy: 0.8497\n",
      "Epoch 23/50\n",
      "70/70 [==============================] - 5s 76ms/step - loss: 0.0731 - accuracy: 0.9828 - val_loss: 0.6285 - val_accuracy: 0.8469\n",
      "Epoch 24/50\n",
      "70/70 [==============================] - 5s 76ms/step - loss: 0.0659 - accuracy: 0.9840 - val_loss: 0.6142 - val_accuracy: 0.8610\n",
      "Epoch 25/50\n",
      "70/70 [==============================] - 6s 86ms/step - loss: 0.0626 - accuracy: 0.9851 - val_loss: 0.6138 - val_accuracy: 0.8571\n",
      "Epoch 26/50\n",
      "70/70 [==============================] - 6s 88ms/step - loss: 0.0566 - accuracy: 0.9864 - val_loss: 0.6620 - val_accuracy: 0.8537\n",
      "Epoch 27/50\n",
      "70/70 [==============================] - 5s 78ms/step - loss: 0.0539 - accuracy: 0.9872 - val_loss: 0.6451 - val_accuracy: 0.8608\n",
      "Epoch 28/50\n",
      "70/70 [==============================] - 5s 76ms/step - loss: 0.0440 - accuracy: 0.9896 - val_loss: 0.6880 - val_accuracy: 0.8413\n",
      "Epoch 29/50\n",
      "70/70 [==============================] - 6s 91ms/step - loss: 0.0452 - accuracy: 0.9888 - val_loss: 0.7590 - val_accuracy: 0.8501\n",
      "Epoch 30/50\n",
      "70/70 [==============================] - 6s 80ms/step - loss: 0.0454 - accuracy: 0.9877 - val_loss: 0.7870 - val_accuracy: 0.8515\n",
      "Epoch 31/50\n",
      "70/70 [==============================] - 5s 77ms/step - loss: 0.0441 - accuracy: 0.9890 - val_loss: 0.6682 - val_accuracy: 0.8562\n",
      "Epoch 32/50\n",
      "70/70 [==============================] - 5s 75ms/step - loss: 0.0409 - accuracy: 0.9901 - val_loss: 0.7204 - val_accuracy: 0.8497\n",
      "Epoch 33/50\n",
      "70/70 [==============================] - 5s 72ms/step - loss: 0.0417 - accuracy: 0.9897 - val_loss: 0.7238 - val_accuracy: 0.8560\n",
      "Epoch 34/50\n",
      "70/70 [==============================] - 5s 73ms/step - loss: 0.0414 - accuracy: 0.9891 - val_loss: 0.7313 - val_accuracy: 0.8551\n",
      "Epoch 35/50\n",
      "70/70 [==============================] - 5s 73ms/step - loss: 0.0292 - accuracy: 0.9934 - val_loss: 0.7603 - val_accuracy: 0.8515\n",
      "Epoch 36/50\n",
      "70/70 [==============================] - 5s 77ms/step - loss: 0.0267 - accuracy: 0.9941 - val_loss: 0.7903 - val_accuracy: 0.8508\n",
      "Epoch 37/50\n",
      "70/70 [==============================] - 5s 72ms/step - loss: 0.0288 - accuracy: 0.9929 - val_loss: 0.7669 - val_accuracy: 0.8512\n",
      "Epoch 38/50\n",
      "70/70 [==============================] - 5s 75ms/step - loss: 0.0328 - accuracy: 0.9903 - val_loss: 0.7752 - val_accuracy: 0.8560\n",
      "Epoch 39/50\n",
      "70/70 [==============================] - 6s 79ms/step - loss: 0.0383 - accuracy: 0.9889 - val_loss: 0.7501 - val_accuracy: 0.8580\n",
      "Epoch 40/50\n",
      "70/70 [==============================] - 6s 87ms/step - loss: 0.0235 - accuracy: 0.9947 - val_loss: 0.6929 - val_accuracy: 0.8678\n",
      "Epoch 41/50\n",
      "70/70 [==============================] - 6s 84ms/step - loss: 0.0185 - accuracy: 0.9953 - val_loss: 0.7060 - val_accuracy: 0.8630\n",
      "Epoch 42/50\n",
      "70/70 [==============================] - 5s 79ms/step - loss: 0.0221 - accuracy: 0.9939 - val_loss: 0.7895 - val_accuracy: 0.8562\n",
      "Epoch 43/50\n",
      "70/70 [==============================] - 5s 77ms/step - loss: 0.0178 - accuracy: 0.9956 - val_loss: 0.8279 - val_accuracy: 0.8413\n",
      "Epoch 44/50\n",
      "70/70 [==============================] - 6s 81ms/step - loss: 0.0245 - accuracy: 0.9929 - val_loss: 0.7604 - val_accuracy: 0.8617\n",
      "Epoch 45/50\n",
      "70/70 [==============================] - 6s 86ms/step - loss: 0.0172 - accuracy: 0.9961 - val_loss: 0.7420 - val_accuracy: 0.8653\n",
      "Epoch 46/50\n",
      "70/70 [==============================] - 5s 75ms/step - loss: 0.0184 - accuracy: 0.9949 - val_loss: 0.7822 - val_accuracy: 0.8601\n",
      "Epoch 47/50\n",
      "70/70 [==============================] - 5s 72ms/step - loss: 0.0224 - accuracy: 0.9935 - val_loss: 0.8027 - val_accuracy: 0.8617\n",
      "Epoch 48/50\n",
      "70/70 [==============================] - 5s 74ms/step - loss: 0.0180 - accuracy: 0.9947 - val_loss: 0.7838 - val_accuracy: 0.8569\n",
      "Epoch 49/50\n",
      "70/70 [==============================] - 5s 72ms/step - loss: 0.0157 - accuracy: 0.9961 - val_loss: 0.8026 - val_accuracy: 0.8590\n",
      "Epoch 50/50\n",
      "70/70 [==============================] - 5s 73ms/step - loss: 0.0142 - accuracy: 0.9961 - val_loss: 0.8000 - val_accuracy: 0.8571\n"
     ]
    }
   ],
   "source": [
    "history = cnn_model.fit(X_train_gray_norm,\n",
    "                        y_train,\n",
    "                        batch_size=500,\n",
    "                        epochs=50,\n",
    "                        verbose=1,\n",
    "                        validation_data = (X_validation_gray_norm,y_validation))"
   ]
  },
  {
   "cell_type": "markdown",
   "metadata": {},
   "source": [
    "# STEP 5: MODEL EVALUATION"
   ]
  },
  {
   "cell_type": "code",
   "execution_count": 20,
   "metadata": {},
   "outputs": [
    {
     "name": "stdout",
     "output_type": "stream",
     "text": [
      "Test Accuracy : 0.8743\n"
     ]
    }
   ],
   "source": [
    "score = cnn_model.evaluate(X_test_gray_norm, y_test,verbose=0)\n",
    "print('Test Accuracy : {:.4f}'.format(score[1]))"
   ]
  },
  {
   "cell_type": "code",
   "execution_count": 21,
   "metadata": {},
   "outputs": [
    {
     "data": {
      "text/plain": [
       "dict_keys(['loss', 'accuracy', 'val_loss', 'val_accuracy'])"
      ]
     },
     "execution_count": 21,
     "metadata": {},
     "output_type": "execute_result"
    }
   ],
   "source": [
    "history.history.keys()"
   ]
  },
  {
   "cell_type": "code",
   "execution_count": null,
   "metadata": {},
   "outputs": [],
   "source": [
    "accuracy = history.history['acc']\n",
    "val_accuracy = history.history['val_acc']\n",
    "loss = history.history['loss']\n",
    "val_loss = history.history['val_loss']\n",
    "\n",
    "epochs = range(len(accuracy))\n",
    "\n",
    "plt.plot(epochs, accuracy, 'bo', label='Training Accuracy')\n",
    "plt.plot(epochs, val_accuracy, 'b', label='Validation Accuracy')\n",
    "plt.title('Training and Validation accuracy')\n",
    "plt.legend()\n"
   ]
  },
  {
   "cell_type": "code",
   "execution_count": null,
   "metadata": {},
   "outputs": [],
   "source": [
    "plt.plot(epochs, loss, 'ro', label='Training Loss')\n",
    "plt.plot(epochs, val_loss, 'r', label='Validation Loss')\n",
    "plt.title('Training and validation loss')\n",
    "plt.legend()\n",
    "plt.show()"
   ]
  },
  {
   "cell_type": "code",
   "execution_count": null,
   "metadata": {},
   "outputs": [],
   "source": [
    "#get the predictions for the test data\n",
    "predicted_classes = cnn_model.predict_classes(X_test_gray_norm)\n",
    "#get the indices to be plotted\n",
    "y_true = y_test\n"
   ]
  },
  {
   "cell_type": "code",
   "execution_count": null,
   "metadata": {},
   "outputs": [],
   "source": [
    "from sklearn.metrics import confusion_matrix\n",
    "cm = confusion_matrix(y_true, predicted_classes)\n",
    "plt.figure(figsize = (25,25))\n",
    "sns.heatmap(cm, annot=True)"
   ]
  },
  {
   "cell_type": "code",
   "execution_count": null,
   "metadata": {
    "scrolled": true
   },
   "outputs": [],
   "source": [
    "L = 7\n",
    "W = 7\n",
    "fig, axes = plt.subplots(L, W, figsize = (12,12))\n",
    "axes = axes.ravel() # \n",
    "\n",
    "for i in np.arange(0, L * W):  \n",
    "    axes[i].imshow(X_test[i])\n",
    "    axes[i].set_title(\"Prediction={}\\n True={}\".format(predicted_classes[i], y_true[i]))\n",
    "    axes[i].axis('off')\n",
    "\n",
    "plt.subplots_adjust(wspace=1)"
   ]
  },
  {
   "cell_type": "markdown",
   "metadata": {},
   "source": [
    "# GREAT JOB! NOW YOU'VE MASTERED CNNS TRAINING USING KERAS!"
   ]
  }
 ],
 "metadata": {
  "kernelspec": {
   "display_name": "Python 3",
   "language": "python",
   "name": "python3"
  },
  "language_info": {
   "codemirror_mode": {
    "name": "ipython",
    "version": 3
   },
   "file_extension": ".py",
   "mimetype": "text/x-python",
   "name": "python",
   "nbconvert_exporter": "python",
   "pygments_lexer": "ipython3",
   "version": "3.8.5"
  },
  "widgets": {
   "state": {},
   "version": "1.1.2"
  }
 },
 "nbformat": 4,
 "nbformat_minor": 2
}
